{
 "cells": [
  {
   "cell_type": "code",
   "execution_count": 1,
   "id": "9dfdfd77",
   "metadata": {},
   "outputs": [
    {
     "name": "stdout",
     "output_type": "stream",
     "text": [
      "[]\n",
      "[2, 4, 6, 8, 10]\n",
      "[2.0, 4.0, 6.0, 8.0, 10.0]\n",
      "['Economics is', 'very fun']\n",
      "[2, 4.0, 'I Changed It!']\n"
     ]
    }
   ],
   "source": [
    "empty_list = []\n",
    "int_list = [2, 4, 6, 8, 10]\n",
    "float_list = [2.0, 4.0, 6.0, 8.0, 10.0]\n",
    "string_list = [\"Economics is\", \"very fun\"]\n",
    "mixed_list = [2,4.0, \"I Changed It!\"]\n",
    "\n",
    "print(empty_list)  \n",
    "print(int_list)  \n",
    "print(float_list)  \n",
    "print(string_list)  \n",
    "print(mixed_list)"
   ]
  },
  {
   "cell_type": "code",
   "execution_count": 2,
   "id": "b3308d5d",
   "metadata": {},
   "outputs": [
    {
     "name": "stdout",
     "output_type": "stream",
     "text": [
      "list1: [7, 8, 9, 10, 11, 12]\n",
      "list2: [13, 14, 15, 16, 17, 18]\n",
      "[7, 8, 9, 10, 11, 12, 13, 14, 15, 16, 17, 18]\n"
     ]
    }
   ],
   "source": [
    "list1 = [7, 8, 9, 10, 11, 12]\n",
    "list2 = [13, 14, 15, 16, 17, 18]\n",
    "join_lists = list1 + list2\n",
    "\n",
    "print(\"list1:\", list1)\n",
    "print(\"list2:\", list2)\n",
    "print(join_lists)"
   ]
  },
  {
   "cell_type": "code",
   "execution_count": 3,
   "id": "ad93bc2b",
   "metadata": {},
   "outputs": [
    {
     "ename": "SyntaxError",
     "evalue": "invalid syntax (<ipython-input-3-6c57701e4f46>, line 2)",
     "output_type": "error",
     "traceback": [
      "\u001b[1;36m  File \u001b[1;32m\"<ipython-input-3-6c57701e4f46>\"\u001b[1;36m, line \u001b[1;32m2\u001b[0m\n\u001b[1;33m    <execute script>\u001b[0m\n\u001b[1;37m    ^\u001b[0m\n\u001b[1;31mSyntaxError\u001b[0m\u001b[1;31m:\u001b[0m invalid syntax\n"
     ]
    }
   ],
   "source": [
    "for i in range(j, k, l):\n",
    "    <execute script>"
   ]
  },
  {
   "cell_type": "code",
   "execution_count": null,
   "id": "06c13367",
   "metadata": {},
   "outputs": [],
   "source": [
    "list1 = list(range(7))\n",
    "list2 = list(range(-7,7))\n",
    "list3 = list(range(-7,7,5))\n",
    "\n",
    "print(list1)\n",
    "print(list2)\n",
    "print(list3)"
   ]
  },
  {
   "cell_type": "code",
   "execution_count": null,
   "id": "55337b91",
   "metadata": {},
   "outputs": [],
   "source": [
    "for i in range(7)\n",
    "print(i)"
   ]
  },
  {
   "cell_type": "code",
   "execution_count": null,
   "id": "2f8dc51d",
   "metadata": {},
   "outputs": [],
   "source": [
    "for i in range(len(A))\n",
    "    <execute script>"
   ]
  },
  {
   "cell_type": "code",
   "execution_count": null,
   "id": "c6197dc4",
   "metadata": {},
   "outputs": [],
   "source": [
    "list1 = [8, 6, 7, 5, 3, 0, 9]\n",
    "list2 = [6, 1, 2, 2, 1, 3, 5]\n",
    "\n",
    "print(\"list1 elements:\", list1[0], list1[1], list1[2], list1[3], list1[4], list1[5], list1[6])\n",
    "print(\"list2 elements:\", list2[0], list2[1], list2[2], list2[3], list2[4], list2[5], list2[6])\n",
    "\n",
    "list3 = []\n",
    "j = len(list1)\n",
    "for i in range(j):\n",
    "    list3.append(list1[i])\n",
    "\n",
    "k = len(list2)\n",
    "for i in range(k):\n",
    "    list3.append(list2[i])\n",
    "\n",
    "print(\"list3 elements:\", list3)"
   ]
  },
  {
   "cell_type": "code",
   "execution_count": null,
   "id": "be622208",
   "metadata": {},
   "outputs": [],
   "source": [
    "list1 = [8, 6, 7, 5, 3, 0, 9]\n",
    "list2 = [6, 1, 2, 2, 1, 3, 5]\n",
    "\n",
    "print(\"list1 elements:\", list1[0], list1[1], list1[2], list1[3], list1[4], list1[5], list1[6])\n",
    "print(\"list2 elements:\", list2[0], list2[1], list2[2], list2[3], list2[4], list2[5], list2[6])\n",
    "\n",
    "list3 = []\n",
    "j = len(list1)\n",
    "for i in range(j):\n",
    "    list3.append(list1[i] + list2[i])\n",
    "    \n",
    "print(\"list3:\", list3)"
   ]
  },
  {
   "cell_type": "code",
   "execution_count": 4,
   "id": "11cc4b7d",
   "metadata": {},
   "outputs": [
    {
     "name": "stdout",
     "output_type": "stream",
     "text": [
      "execute script\n"
     ]
    }
   ],
   "source": [
    "if True:\n",
    "    print(\"execute script\")"
   ]
  },
  {
   "cell_type": "code",
   "execution_count": 5,
   "id": "48893b77",
   "metadata": {},
   "outputs": [
    {
     "name": "stdout",
     "output_type": "stream",
     "text": [
      "execute script\n"
     ]
    }
   ],
   "source": [
    "if True:\n",
    "    print(\"execute script\")\n",
    "else:\n",
    "    pass"
   ]
  },
  {
   "cell_type": "code",
   "execution_count": 6,
   "id": "92044316",
   "metadata": {},
   "outputs": [],
   "source": [
    "if False:\n",
    "    print(\"execute script\")\n",
    "else:\n",
    "    pass"
   ]
  },
  {
   "cell_type": "code",
   "execution_count": 7,
   "id": "88d833a7",
   "metadata": {},
   "outputs": [
    {
     "name": "stdout",
     "output_type": "stream",
     "text": [
      "list1 elements: 8 6 7 5 3 0 9\n",
      "list2 elements: 6 1 2 2 1 3 5\n",
      "list3: [14, 7, 9, 7, 4, 3, 14]\n"
     ]
    }
   ],
   "source": [
    "list1 = [8, 6, 7, 5, 3, 0, 9]\n",
    "list2 = [6, 1, 2, 2, 1, 3, 5]\n",
    "\n",
    "print(\"list1 elements:\", list1[0], list1[1], list1[2], list1[3], list1[4], list1[5], list1[6])\n",
    "print(\"list2 elements:\", list2[0], list2[1], list2[2], list2[3], list2[4], list2[5], list2[6])\n",
    "\n",
    "list3 = []\n",
    "j = len(list1)\n",
    "if j == len(list2):\n",
    "    for i in range(0, len(list2)):\n",
    "        list3.insert(i,list1[i] + list2[i])\n",
    "print(\"list3:\", list3)"
   ]
  },
  {
   "cell_type": "code",
   "execution_count": 8,
   "id": "82273e4a",
   "metadata": {},
   "outputs": [
    {
     "name": "stdout",
     "output_type": "stream",
     "text": [
      "list1 elements: 8 6 7 5 3 0 9\n",
      "list2 elements: 6 1 2 2 1 3\n",
      "Lists are not same length, so cannot perform the element-wise operations.\n",
      "list3: []\n"
     ]
    }
   ],
   "source": [
    "list1 = [8, 6, 7, 5, 3, 0, 9]\n",
    "list2 = [6, 1, 2, 2, 1, 3]\n",
    "\n",
    "print(\"list1 elements:\", list1[0], list1[1], list1[2], list1[3], list1[4], list1[5], list1[6])\n",
    "print(\"list2 elements:\", list2[0], list2[1], list2[2], list2[3], list2[4], list2[5])\n",
    "\n",
    "list3 = []\n",
    "j = len(list1)\n",
    "if j == len(list2):\n",
    "    for i in range(0, len(list2)):\n",
    "        list3.insert(i,list1[i] + list2[i])\n",
    "else:\n",
    "    print(\"Lists are not same length, so cannot perform the element-wise operations.\")\n",
    "print(\"list3:\", list3)"
   ]
  },
  {
   "cell_type": "code",
   "execution_count": 9,
   "id": "69908629",
   "metadata": {},
   "outputs": [
    {
     "name": "stdout",
     "output_type": "stream",
     "text": [
      "lists before deletion: \n",
      "red \t chair\n",
      "orange \t desk\n",
      "yellow \t computer\n",
      "green \t lamp\n",
      "blue \t mouse\n",
      "indigo \t keyboard\n",
      "\n",
      "lists after deletion: \n",
      "orange \t chair\n",
      "yellow \t desk\n",
      "green \t computer\n",
      "blue \t lamp\n",
      "indigo \t mouse\n"
     ]
    }
   ],
   "source": [
    "list1 = [\"red\", \"orange\", \"yellow\", \"green\", \"blue\", \"indigo\"]\n",
    "list2 = [\"chair\", \"desk\", \"computer\", \"lamp\", \"mouse\", \"keyboard\"]\n",
    "print(\"lists before deletion: \")\n",
    "for i in range(len(list1)):\n",
    "    print(list1[i],\"\\t\", list2[i])\n",
    "    \n",
    "del list1[0]\n",
    "del list2[5]\n",
    "\n",
    "print()\n",
    "print(\"lists after deletion: \")\n",
    "for i in range(len(list1)):\n",
    "    print(list1[i], \"\\t\",list2[i])"
   ]
  },
  {
   "cell_type": "code",
   "execution_count": 10,
   "id": "8167ec4d",
   "metadata": {},
   "outputs": [
    {
     "name": "stdout",
     "output_type": "stream",
     "text": [
      "lists before deletion: \n",
      "red \t chair\n",
      "orange \t desk\n",
      "yellow \t computer\n",
      "green \t lamp\n",
      "blue \t mouse\n",
      "indigo \t keyboard\n",
      "\n",
      "lists after deletion: \n",
      "orange \t chair\n",
      "yellow \t desk\n",
      "green \t computer\n",
      "blue \t lamp\n",
      "indigo \t mouse\n"
     ]
    }
   ],
   "source": [
    "list1 = [\"red\", \"orange\", \"yellow\", \"green\", \"blue\", \"indigo\"]\n",
    "list2 = [\"chair\", \"desk\", \"computer\", \"lamp\", \"mouse\", \"keyboard\"]\n",
    "print(\"lists before deletion: \")\n",
    "for i in range(len(list1)):\n",
    "    print(list1[i],\"\\t\", list2[i])\n",
    "    \n",
    "list1.remove(\"red\")\n",
    "list2.remove(\"keyboard\")\n",
    "\n",
    "print()\n",
    "print(\"lists after deletion: \")\n",
    "for i in range(len(list1)):\n",
    "    print(list1[i], \"\\t\",list2[i])"
   ]
  },
  {
   "cell_type": "code",
   "execution_count": 11,
   "id": "4fa55944",
   "metadata": {},
   "outputs": [
    {
     "name": "stdout",
     "output_type": "stream",
     "text": [
      "lists before deletion: \n",
      "red \t chair\n",
      "orange \t desk\n",
      "yellow \t computer\n",
      "green \t lamp\n",
      "blue \t mouse\n",
      "indigo \t keyboard\n",
      "\n",
      "lists after deletion: \n",
      "orange \t chair\n",
      "yellow \t desk\n",
      "green \t computer\n",
      "blue \t lamp\n",
      "indigo \t mouse\n",
      "\n",
      "Res1 \tRes2\n",
      "red \tkeyboard\n"
     ]
    }
   ],
   "source": [
    "list1 = [\"red\", \"orange\", \"yellow\", \"green\", \"blue\", \"indigo\"]\n",
    "list2 = [\"chair\", \"desk\", \"computer\", \"lamp\", \"mouse\", \"keyboard\"]\n",
    "\n",
    "print(\"lists before deletion: \")\n",
    "if len(list1) == len(list2):\n",
    "    # use for loop to print lists in parallel\n",
    "    for i in range(len(list1)):\n",
    "        print(list1[i],\"\\t\", list2[i])\n",
    "    \n",
    "list1_res = \"red\"\n",
    "list2_res = \"keyboard\"\n",
    "list1.remove(list1_res)\n",
    "list2.remove(list2_res)\n",
    "\n",
    "print()\n",
    "print(\"lists after deletion: \")\n",
    "if len(list1) == len(list2):\n",
    "    for i in range(len(list1)):\n",
    "        print(list1[i], \"\\t\",list2[i])\n",
    "     \n",
    "print()\n",
    "print(\"Res1\", \"\\tRes2\")\n",
    "print(list1_res, \"\\t\" + (list2_res))"
   ]
  },
  {
   "cell_type": "code",
   "execution_count": 12,
   "id": "12c230a3",
   "metadata": {},
   "outputs": [
    {
     "name": "stdout",
     "output_type": "stream",
     "text": [
      "lists before deletion: \n",
      "red \t chair\n",
      "orange \t desk\n",
      "yellow \t computer\n",
      "green \t lamp\n",
      "blue \t mouse\n",
      "indigo \t keyboard\n",
      "\n",
      "lists after deletion: \n",
      "orange \t chair\n",
      "yellow \t desk\n",
      "green \t computer\n",
      "blue \t lamp\n",
      "indigo \t mouse\n",
      "\n",
      "Res1 \tRes2\n",
      "red \tkeyboard\n"
     ]
    }
   ],
   "source": [
    "list1 = [\"red\", \"orange\", \"yellow\", \"green\", \"blue\", \"indigo\"]\n",
    "list2 = [\"chair\", \"desk\", \"computer\", \"lamp\", \"mouse\", \"keyboard\"]\n",
    "\n",
    "print(\"lists before deletion: \")\n",
    "for i in range(len(list1)):\n",
    "    print(list1[i],\"\\t\", list2[i])\n",
    "    \n",
    "list1_res = list1.pop(0)\n",
    "list2_res = list2.pop(5)\n",
    "\n",
    "print()\n",
    "print(\"lists after deletion: \")\n",
    "for i in range(len(list1)):\n",
    "    print(list1[i], \"\\t\",list2[i])\n",
    "     \n",
    "print()\n",
    "print(\"Res1\", \"\\tRes2\")\n",
    "print(list1_res, \"\\t\" + (list2_res))"
   ]
  },
  {
   "cell_type": "code",
   "execution_count": 13,
   "id": "cc2ceaab",
   "metadata": {},
   "outputs": [
    {
     "name": "stdout",
     "output_type": "stream",
     "text": [
      "list1 elements: 8 6 7 5 3\n",
      "list2 elements: 6 1 2 2 1\n",
      "list3: [14, 9, 4]\n"
     ]
    }
   ],
   "source": [
    "list1 = [8, 6, 7, 5, 3, 0]\n",
    "list2 = [6, 1, 2, 2, 1, 3]\n",
    "print(\"list1 elements:\", list1[0], list1[1], list1[2], list1[3], list1[4])\n",
    "print(\"list2 elements:\", list2[0], list2[1], list2[2], list2[3], list2[4])\n",
    "\n",
    "list3 = []\n",
    "j = len(list1)\n",
    "if j == len(list2):\n",
    "    for i in range(0, j, 2):\n",
    "        list3.append(list1[i] + list2[i])\n",
    "else:\n",
    "    print(\"Lists are different lengths, cannot do operations\")\n",
    "print(\"list3:\", list3)"
   ]
  },
  {
   "cell_type": "code",
   "execution_count": 14,
   "id": "ec187616",
   "metadata": {},
   "outputs": [
    {
     "name": "stdout",
     "output_type": "stream",
     "text": [
      "I\n",
      "just\n",
      "missed\n",
      "20\n",
      "minutes\n",
      "of\n",
      "class\n"
     ]
    }
   ],
   "source": [
    "obj = [\"I\", \"just\", \"missed\", \"20\", \"minutes\", \"of\", \"class\"]\n",
    "for x in obj:\n",
    "    print(x)"
   ]
  },
  {
   "cell_type": "code",
   "execution_count": 15,
   "id": "89396964",
   "metadata": {},
   "outputs": [
    {
     "name": "stdout",
     "output_type": "stream",
     "text": [
      "list1\t list2\n",
      "red \t red\n",
      "orange \t orange\n",
      "yellow \t yellow\n",
      "green \t green\n",
      "blue \t blue\n",
      "indigo \t indigo\n"
     ]
    }
   ],
   "source": [
    "list1 = [\"red\", \"orange\", \"yellow\", \"green\", \"blue\", \"indigo\"]\n",
    "list2 = []\n",
    "for x in list1:\n",
    "    list2.append(x)\n",
    "\n",
    "print(\"list1\\t\", \"list2\")\n",
    "k = len(list1)\n",
    "j = len(list2)\n",
    "\n",
    "if len(list1) == len(list2):\n",
    "    for i in range(0, len(list1)):\n",
    "        print(list1[i], \"\\t\", list2[i])"
   ]
  },
  {
   "cell_type": "code",
   "execution_count": 16,
   "id": "7b0a4d5a",
   "metadata": {},
   "outputs": [
    {
     "name": "stdout",
     "output_type": "stream",
     "text": [
      "list1: [8, 6, 7, 5, 3, 0]\n",
      "list2: ['red', 'orange', 'yellow', 'green', 'blue', 'indigo']\n",
      "sortedList1: [0, 3, 5, 6, 7, 8]\n",
      "sortedList2: ['blue', 'green', 'indigo', 'orange', 'red', 'yellow']\n"
     ]
    }
   ],
   "source": [
    "list1 = [8, 6, 7, 5, 3, 0]\n",
    "list2 = [\"red\", \"orange\", \"yellow\", \"green\", \"blue\", \"indigo\"]\n",
    "\n",
    "print(\"list1:\", list1)\n",
    "print(\"list2:\", list2)\n",
    "\n",
    "sorted_list1 = sorted(list1)\n",
    "sorted_list2 = sorted(list2)\n",
    "\n",
    "print(\"sortedList1:\", sorted_list1)\n",
    "print(\"sortedList2:\", sorted_list2)"
   ]
  },
  {
   "cell_type": "code",
   "execution_count": 17,
   "id": "2bbed5ce",
   "metadata": {},
   "outputs": [
    {
     "name": "stdout",
     "output_type": "stream",
     "text": [
      "list1: [8, 6, 7, 5, 3, 0]\n",
      "list2: ['red', 'orange', 'yellow', 'green', 'blue', 'indigo']\n",
      "list3: [8, 6, 7, 5, 3, 0, 'red', 'orange', 'yellow', 'green', 'blue', 'indigo']\n",
      "sortedList1: [0, 3, 5, 6, 7, 8]\n",
      "sortedList2: ['blue', 'green', 'indigo', 'orange', 'red', 'yellow']\n"
     ]
    },
    {
     "ename": "TypeError",
     "evalue": "'<' not supported between instances of 'str' and 'int'",
     "output_type": "error",
     "traceback": [
      "\u001b[1;31m---------------------------------------------------------------------------\u001b[0m",
      "\u001b[1;31mTypeError\u001b[0m                                 Traceback (most recent call last)",
      "\u001b[1;32m<ipython-input-17-28a92e7e4f56>\u001b[0m in \u001b[0;36m<module>\u001b[1;34m\u001b[0m\n\u001b[0;32m     13\u001b[0m \u001b[0mprint\u001b[0m\u001b[1;33m(\u001b[0m\u001b[1;34m\"sortedList2:\"\u001b[0m\u001b[1;33m,\u001b[0m \u001b[0msorted_list2\u001b[0m\u001b[1;33m)\u001b[0m\u001b[1;33m\u001b[0m\u001b[1;33m\u001b[0m\u001b[0m\n\u001b[0;32m     14\u001b[0m \u001b[1;33m\u001b[0m\u001b[0m\n\u001b[1;32m---> 15\u001b[1;33m \u001b[0msorted_list3\u001b[0m \u001b[1;33m=\u001b[0m \u001b[0msorted\u001b[0m\u001b[1;33m(\u001b[0m\u001b[0mlist3\u001b[0m\u001b[1;33m)\u001b[0m\u001b[1;33m\u001b[0m\u001b[1;33m\u001b[0m\u001b[0m\n\u001b[0m\u001b[0;32m     16\u001b[0m \u001b[0mprint\u001b[0m\u001b[1;33m(\u001b[0m\u001b[1;34m\"sortedList3:\"\u001b[0m\u001b[1;33m,\u001b[0m \u001b[0msorted_list3\u001b[0m\u001b[1;33m)\u001b[0m\u001b[1;33m\u001b[0m\u001b[1;33m\u001b[0m\u001b[0m\n\u001b[0;32m     17\u001b[0m \u001b[0mprint\u001b[0m\u001b[1;33m(\u001b[0m\u001b[1;34m\"Complete\"\u001b[0m\u001b[1;33m)\u001b[0m\u001b[1;33m\u001b[0m\u001b[1;33m\u001b[0m\u001b[0m\n",
      "\u001b[1;31mTypeError\u001b[0m: '<' not supported between instances of 'str' and 'int'"
     ]
    }
   ],
   "source": [
    "list1 = [8, 6, 7, 5, 3, 0]\n",
    "list2 = [\"red\", \"orange\", \"yellow\", \"green\", \"blue\", \"indigo\"]\n",
    "list3 = list1 + list2\n",
    "\n",
    "print(\"list1:\", list1)\n",
    "print(\"list2:\", list2)\n",
    "print(\"list3:\", list3)\n",
    "\n",
    "sorted_list1 = sorted(list1)\n",
    "sorted_list2 = sorted(list2)\n",
    "\n",
    "print(\"sortedList1:\", sorted_list1)\n",
    "print(\"sortedList2:\", sorted_list2)\n",
    "\n",
    "sorted_list3 = sorted(list3)\n",
    "print(\"sortedList3:\", sorted_list3)\n",
    "print(\"Complete\")"
   ]
  },
  {
   "cell_type": "code",
   "execution_count": 18,
   "id": "a20d9659",
   "metadata": {},
   "outputs": [
    {
     "name": "stdout",
     "output_type": "stream",
     "text": [
      "list1: [8, 6, 7, 5, 3, 0]\n",
      "list2: ['red', 'orange', 'yellow', 'green', 'blue', 'indigo']\n",
      "list3: [8, 6, 7, 5, 3, 0, 'red', 'orange', 'yellow', 'green', 'blue', 'indigo']\n",
      "sortedList1: [0, 3, 5, 6, 7, 8]\n",
      "sortedList2: ['blue', 'green', 'indigo', 'orange', 'red', 'yellow']\n",
      "Can't sort when str() < int() ignoring error\n",
      "Failure Succeeded!\n"
     ]
    }
   ],
   "source": [
    "list1 = [8, 6, 7, 5, 3, 0]\n",
    "list2 = [\"red\", \"orange\", \"yellow\", \"green\", \"blue\", \"indigo\"]\n",
    "list3 = list1 + list2\n",
    "\n",
    "print(\"list1:\", list1)\n",
    "print(\"list2:\", list2)\n",
    "print(\"list3:\", list3)\n",
    "\n",
    "sorted_list1 = sorted(list1)\n",
    "sorted_list2 = sorted(list2)\n",
    "\n",
    "print(\"sortedList1:\", sorted_list1)\n",
    "print(\"sortedList2:\", sorted_list2)\n",
    "try:\n",
    "    sorted_list3 = sorted(list3)\n",
    "    print(\"sortedList3:\", sorted_list3)\n",
    "except:\n",
    "    print(\"Can't sort when str() < int() \"\n",
    "         \"ignoring error\")\n",
    "print(\"Failure Succeeded!\")"
   ]
  },
  {
   "cell_type": "code",
   "execution_count": 19,
   "id": "d68b9410",
   "metadata": {},
   "outputs": [
    {
     "name": "stdout",
     "output_type": "stream",
     "text": [
      "[8, 6, 7, 5, 3, 0, 9]\n"
     ]
    }
   ],
   "source": [
    "some_list = [8, 6, 7, 5, 3, 0, 9]\n",
    "print(some_list[:])"
   ]
  },
  {
   "cell_type": "code",
   "execution_count": 20,
   "id": "5b58fab7",
   "metadata": {},
   "outputs": [
    {
     "name": "stdout",
     "output_type": "stream",
     "text": [
      "minimum: 0\n",
      "maximum: 7\n",
      "Full list using slice [8, 6, 7, 5, 3, 0, 9]\n",
      "Full list without slice [8, 6, 7, 5, 3, 0, 9]\n"
     ]
    }
   ],
   "source": [
    "some_list = [8, 6, 7, 5, 3, 0, 9]\n",
    "min_index = 0\n",
    "max_index = len(some_list)\n",
    "print(\"minimum:\", min_index)\n",
    "print(\"maximum:\", max_index)\n",
    "print(\"Full list using slice\", some_list[min_index:max_index])\n",
    "print(\"Full list without slice\", some_list)"
   ]
  },
  {
   "cell_type": "code",
   "execution_count": 21,
   "id": "d903943d",
   "metadata": {},
   "outputs": [
    {
     "name": "stdout",
     "output_type": "stream",
     "text": [
      "Full List: [8, 6, 7, 5, 3, 0, 9, 6, 1, 2]\n",
      "Partial List: [5, 3, 0, 9]\n",
      "full_list[7]: 6\n"
     ]
    }
   ],
   "source": [
    "min_index = 3\n",
    "max_index = 7\n",
    "full_list = [8, 6, 7, 5, 3, 0, 9, 6, 1 ,2]\n",
    "partial_list = full_list[min_index:max_index]\n",
    "print(\"Full List:\", full_list)\n",
    "print(\"Partial List:\", partial_list)\n",
    "print(\"full_list[7]:\", full_list[7])"
   ]
  },
  {
   "cell_type": "code",
   "execution_count": 22,
   "id": "55876c65",
   "metadata": {},
   "outputs": [
    {
     "name": "stdout",
     "output_type": "stream",
     "text": [
      "i j\n",
      "0 0\n",
      "0 1\n",
      "0 2\n",
      "0 3\n",
      "0 4\n",
      "0 5\n",
      "0 6\n",
      "0 7\n",
      "1 0\n",
      "1 1\n",
      "1 2\n",
      "1 3\n",
      "1 4\n",
      "1 5\n",
      "1 6\n",
      "1 7\n",
      "2 0\n",
      "2 1\n",
      "2 2\n",
      "2 3\n",
      "2 4\n",
      "2 5\n",
      "2 6\n",
      "2 7\n",
      "3 0\n",
      "3 1\n",
      "3 2\n",
      "3 3\n",
      "3 4\n",
      "3 5\n",
      "3 6\n",
      "3 7\n",
      "4 0\n",
      "4 1\n",
      "4 2\n",
      "4 3\n",
      "4 4\n",
      "4 5\n",
      "4 6\n",
      "4 7\n",
      "5 0\n",
      "5 1\n",
      "5 2\n",
      "5 3\n",
      "5 4\n",
      "5 5\n",
      "5 6\n",
      "5 7\n"
     ]
    }
   ],
   "source": [
    "print(\"i\", \"j\")\n",
    "for i in range(6):\n",
    "    for j in range(8):\n",
    "        print(i, j)"
   ]
  },
  {
   "cell_type": "code",
   "execution_count": 23,
   "id": "27c5bf9c",
   "metadata": {},
   "outputs": [
    {
     "name": "stdout",
     "output_type": "stream",
     "text": [
      "i j i+j\n",
      "0 0 0\n",
      "0 1 1\n",
      "0 2 2\n",
      "0 3 3\n",
      "0 4 4\n",
      "1 0 1\n",
      "1 1 2\n",
      "1 2 3\n",
      "1 3 4\n",
      "1 4 5\n",
      "2 0 2\n",
      "2 1 3\n",
      "2 2 4\n",
      "2 3 5\n",
      "2 4 6\n",
      "3 0 3\n",
      "3 1 4\n",
      "3 2 5\n",
      "3 3 6\n",
      "3 4 7\n"
     ]
    }
   ],
   "source": [
    "print(\"i\", \"j\", \"i+j\")\n",
    "for i in range(4):\n",
    "    for j in range(5):\n",
    "        val = i + j\n",
    "        print(i, j, val)"
   ]
  },
  {
   "cell_type": "code",
   "execution_count": 24,
   "id": "cf92db38",
   "metadata": {},
   "outputs": [
    {
     "name": "stdout",
     "output_type": "stream",
     "text": [
      "maximum: 100 minimum: 20\n"
     ]
    }
   ],
   "source": [
    "list1 = [20, 40, 60, 80, 100]\n",
    "max_list_value = max(list1)\n",
    "min_list_value = min(list1)\n",
    "print(\"maximum:\", max_list_value, \"minimum:\", min_list_value)"
   ]
  },
  {
   "cell_type": "code",
   "execution_count": 25,
   "id": "2f13957e",
   "metadata": {},
   "outputs": [
    {
     "name": "stdout",
     "output_type": "stream",
     "text": [
      "maximum: 100 minimum: 20\n"
     ]
    }
   ],
   "source": [
    "list1 = [20, 40, 60, 80, 100]\n",
    "min_list_val = float(\"inf\")\n",
    "max_list_val = float(\"-inf\")\n",
    "\n",
    "for x in list1:\n",
    "    if x < min_list_val:\n",
    "        min_list_val = x\n",
    "    if x > max_list_val:\n",
    "        max_list_val = x\n",
    "\n",
    "print(\"maximum:\", max_list_val, \"minimum:\", min_list_val)"
   ]
  },
  {
   "cell_type": "code",
   "execution_count": 26,
   "id": "706ecdaf",
   "metadata": {},
   "outputs": [
    {
     "name": "stdout",
     "output_type": "stream",
     "text": [
      "<generator object <genexpr> at 0x0000018C683E2350>\n",
      "[0, 1, 2, 3, 4, 5, 6, 7, 8, 9, 10, 11, 12, 13, 14, 15, 16, 17, 18, 19, 20, 21, 22, 23, 24, 25, 26, 27, 28, 29, 30, 31, 32, 33, 34, 35, 36, 37, 38, 39, 40, 41]\n",
      "[0, 2, 4, 6, 8, 10, 12, 14, 16, 18, 20, 22, 24, 26, 28, 30, 32, 34, 36, 38, 40, 42, 44, 46, 48, 50, 52, 54, 56, 58, 60, 62, 64, 66, 68, 70, 72, 74, 76, 78, 80, 82]\n"
     ]
    }
   ],
   "source": [
    "generator = (i for i in range(42))\n",
    "print(generator)\n",
    "\n",
    "list1 = list(generator)\n",
    "print(list1)\n",
    "\n",
    "list2 = [2 * i for i in range(42)]\n",
    "print(list2)"
   ]
  },
  {
   "cell_type": "code",
   "execution_count": null,
   "id": "469a0b2b",
   "metadata": {},
   "outputs": [],
   "source": []
  }
 ],
 "metadata": {
  "kernelspec": {
   "display_name": "Python 3",
   "language": "python",
   "name": "python3"
  },
  "language_info": {
   "codemirror_mode": {
    "name": "ipython",
    "version": 3
   },
   "file_extension": ".py",
   "mimetype": "text/x-python",
   "name": "python",
   "nbconvert_exporter": "python",
   "pygments_lexer": "ipython3",
   "version": "3.8.8"
  }
 },
 "nbformat": 4,
 "nbformat_minor": 5
}
